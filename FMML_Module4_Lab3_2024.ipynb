{
  "nbformat": 4,
  "nbformat_minor": 0,
  "metadata": {
    "colab": {
      "provenance": [],
      "include_colab_link": true
    },
    "kernelspec": {
      "name": "python3",
      "display_name": "Python 3"
    },
    "language_info": {
      "name": "python"
    }
  },
  "cells": [
    {
      "cell_type": "markdown",
      "metadata": {
        "id": "view-in-github",
        "colab_type": "text"
      },
      "source": [
        "<a href=\"https://colab.research.google.com/github/Rutikasri/FMML-LAB-1/blob/main/FMML_Module4_Lab3_2024.ipynb\" target=\"_parent\"><img src=\"https://colab.research.google.com/assets/colab-badge.svg\" alt=\"Open In Colab\"/></a>"
      ]
    },
    {
      "cell_type": "markdown",
      "source": [
        "# FOUNDATIONS OF MODERN MACHINE LEARNING, IIIT Hyderabad\n",
        "# Module 4: Perceptron and Gradient Descent\n",
        "## Lab 3: Gradient Descent\n",
        "\n",
        "Gradient descent is a very important algorithm to understand, as it underpins many of the more advanced algorithms used in Machine Learning and Deep Learning.\n",
        "\n",
        "A brief overview of the algorithm is\n",
        "\n",
        "\n",
        "*   start with a random initialization of the solution.\n",
        "*   incrementally change the solution by moving in the direction of negative gradient of the objective function.\n",
        "*   repeat the previous step until some convergence criteria is met.\n",
        "\n",
        "The key equation for change in weight is:\n",
        "$$w^{k+1} \\leftarrow w^k - \\eta \\Delta J$$\n",
        "\n",
        "In this lab, we will discuss stochastic gradient descent, mini-batch gradient descent and batch gradient descent.\n"
      ],
      "metadata": {
        "id": "XYxxkQg6xCjD"
      }
    },
    {
      "cell_type": "code",
      "metadata": {
        "id": "Fr-MnaGs7JmZ"
      },
      "source": [
        "import numpy as np\n",
        "import matplotlib.pyplot as plt"
      ],
      "execution_count": 1,
      "outputs": []
    },
    {
      "cell_type": "code",
      "metadata": {
        "id": "7ob_zZms7VOu"
      },
      "source": [
        "np.random.seed(42)"
      ],
      "execution_count": 2,
      "outputs": []
    },
    {
      "cell_type": "markdown",
      "metadata": {
        "id": "v4Kix4bcChiy"
      },
      "source": [
        "# Creating the Data\n",
        "\n",
        "Let's generate some data with:\n",
        "\\begin{equation} y_0= 4 \\end{equation}\n",
        "\\begin{equation} y_1= 3 \\end{equation}\n",
        "\n",
        "and also add some noise to the data."
      ]
    },
    {
      "cell_type": "code",
      "metadata": {
        "id": "MtAS7eFZ9hX6"
      },
      "source": [
        "X = 2 * np.random.rand(100, 1)\n",
        "y = 4 + 3 * X + np.random.randn(100, 1)"
      ],
      "execution_count": 3,
      "outputs": []
    },
    {
      "cell_type": "markdown",
      "metadata": {
        "id": "zD95NaF-CxM-"
      },
      "source": [
        "Let's also plot the data we just created"
      ]
    },
    {
      "cell_type": "code",
      "metadata": {
        "colab": {
          "base_uri": "https://localhost:8080/",
          "height": 466
        },
        "id": "3IiEP4BQ7Wja",
        "outputId": "4fbc63e3-c097-48f8-d1db-6267af042301"
      },
      "source": [
        "plt.plot(X, y, 'b.')\n",
        "plt.xlabel('x')\n",
        "plt.ylabel('y', rotation=0)"
      ],
      "execution_count": 4,
      "outputs": [
        {
          "output_type": "execute_result",
          "data": {
            "text/plain": [
              "Text(0, 0.5, 'y')"
            ]
          },
          "metadata": {},
          "execution_count": 4
        },
        {
          "output_type": "display_data",
          "data": {
            "text/plain": [
              "<Figure size 640x480 with 1 Axes>"
            ],
            "image/png": "[encoded data removed]"
          },
          "metadata": {}
        }
      ]
    },
    {
      "cell_type": "markdown",
      "metadata": {
        "id": "ScwxpouoDDyZ"
      },
      "source": [
        "## Cost Function\n",
        "\n",
        "The equation for calculating cost function is as shown below. The cost function is only for linear regression. For other algorithms, the cost function will be different and the gradients would have to be derived from the cost functions\n",
        "\n",
        "\\begin{equation}\n",
        "J(y_{pred}) = \\frac{1}{2} m \\sum_{i=1}^{m} (h(y_{pred})^{(i)} - y^{(i)})^2\n",
        "\\end{equation}"
      ]
    },
    {
      "cell_type": "code",
      "metadata": {
        "id": "PUeTUAXH7ZaV"
      },
      "source": [
        "def cal_cost(y_pred, X, y):\n",
        "    '''\n",
        "    Calculates the cost for given X and Y.\n",
        "    y_pred = Vector of y_preds\n",
        "    X = Row of X's np.zeros((2, j))\n",
        "    y = Actual y's np.zeros((2, 1))\n",
        "\n",
        "    where:\n",
        "        j is the no of features\n",
        "    '''\n",
        "\n",
        "    m = len(y)\n",
        "\n",
        "    predictions = X.dot(y_pred)\n",
        "    cost = (1 / 2 * m) * np.sum(np.square(predictions - y))\n",
        "\n",
        "    return cost"
      ],
      "execution_count": 5,
      "outputs": []
    },
    {
      "cell_type": "markdown",
      "metadata": {
        "id": "FcXqsVNpDbKC"
      },
      "source": [
        "## Gradients\n",
        "\n",
        "\\begin{equation}\n",
        "y_{pred_0}: = y_{pred_0} -\\alpha . (1/m .\\sum_{i=1}^{m}(h(y_{pred}^{(i)} - y^{(i)}).X_0^{(i)})\n",
        "\\end{equation}\n",
        "\\begin{equation}\n",
        "y_{pred_1}: = y_{pred_1} -\\alpha . (1/m .\\sum_{i=1}^{m}(h(y_{pred}^{(i)} - y^{(i)}).X_0^{(i)})\n",
        "\\end{equation}\n",
        ".\n",
        "\n",
        ".\n",
        "\n",
        ".\n",
        "\n",
        ".\n",
        "\n",
        "\\begin{equation}\n",
        "y_{pred_j}: = y_{pred_j} -\\alpha . (1/m .\\sum_{i=1}^{m}(h(y_{pred}^{(i)} - y^{(i)}).X_0^{(i)})\n",
        "\\end{equation}"
      ]
    },
    {
      "cell_type": "code",
      "metadata": {
        "id": "fwxBFXP88NBW"
      },
      "source": [
        "def gradient_descent(X, y, y_pred, learning_rate=0.01, iterations=100):\n",
        "    '''\n",
        "    X = Matrix of X with added bias units\n",
        "    y = Vector of Y\n",
        "    y_pred = Vector of y_preds np.random.randn(j, 1)\n",
        "    learning_rate\n",
        "    iterations = no of iterations\n",
        "\n",
        "    Returns the final y_pred vector and array of cost history over no of iterations\n",
        "    '''\n",
        "\n",
        "    m = len(y)\n",
        "    cost_history = np.zeros(iterations)\n",
        "    y_pred_history = np.zeros((iterations, 2))\n",
        "\n",
        "    for it in range(iterations):\n",
        "        prediction = np.dot(X, y_pred)\n",
        "        y_pred = y_pred - (1 / m) * learning_rate * (X.T.dot((prediction - y)))\n",
        "        y_pred_history[it,:] = y_pred.T\n",
        "        cost_history[it]  = cal_cost(y_pred, X, y)\n",
        "\n",
        "    return y_pred, cost_history, y_pred_history"
      ],
      "execution_count": 27,
      "outputs": []
    },
    {
      "cell_type": "markdown",
      "metadata": {
        "id": "1iSohSB2EtK1"
      },
      "source": [
        "Let's do 1000 iterations with a learning rate of 0.01.\n",
        "We will start with a random prediction."
      ]
    },
    {
      "cell_type": "code",
      "metadata": {
        "colab": {
          "base_uri": "https://localhost:8080/"
        },
        "id": "18AX7hrU8bv5",
        "outputId": "26951a7e-4921-4f86-9039-a1d425ac8687"
      },
      "source": [
        "lr = 0.01\n",
        "n_iter = 1000\n",
        "\n",
        "y_pred = np.random.randn(2,1)\n",
        "X_b = np.c_[np.ones((len(X), 1)), X]\n",
        "y_pred, cost_history, y_pred_history = gradient_descent(X_b, y, y_pred, lr, n_iter)\n",
        "\n",
        "print('y_pred[0]: {:0.3f}\\ny_pred[1]: {:0.3f}'.format(y_pred[0][0], y_pred[1][0]))\n",
        "print('Final error: {:0.3f}'.format(cost_history[-1]))"
      ],
      "execution_count": 28,
      "outputs": [
        {
          "output_type": "stream",
          "name": "stdout",
          "text": [
            "y_pred[0]: 4.138\n",
            "y_pred[1]: 2.838\n",
            "Final error: 4041.797\n"
          ]
        }
      ]
    },
    {
      "cell_type": "markdown",
      "metadata": {
        "id": "m7fao2MaE216"
      },
      "source": [
        "Plotting the error vs Number of iterations"
      ]
    },
    {
      "cell_type": "code",
      "metadata": {
        "colab": {
          "base_uri": "https://localhost:8080/",
          "height": 0
        },
        "id": "DrkrAAbk8hIs",
        "outputId": "2fdf5b71-2e32-4c78-dd7f-b2c80a6e8349"
      },
      "source": [
        "fig, ax = plt.subplots(figsize=(12,8))\n",
        "\n",
        "ax.set_ylabel('Error')\n",
        "ax.set_xlabel('Number of iterations')\n",
        "\n",
        "ax.plot(range(n_iter), cost_history, 'b.')"
      ],
      "execution_count": 29,
      "outputs": [
        {
          "output_type": "execute_result",
          "data": {
            "text/plain": [
              "[<matplotlib.lines.Line2D at 0x7f49286b7580>]"
            ]
          },
          "metadata": {},
          "execution_count": 29
        },
        {
          "output_type": "display_data",
          "data": {
            "text/plain": [
              "<Figure size 1200x800 with 1 Axes>"
            ],
            "image/png": "[encoded data removed]"
          },
          "metadata": {}
        }
      ]
    },
    {
      "cell_type": "markdown",
      "metadata": {
        "id": "IG5tWAy-FCaW"
      },
      "source": [
        "Zooming in..."
      ]
    },
    {
      "cell_type": "code",
      "metadata": {
        "colab": {
          "base_uri": "https://localhost:8080/",
          "height": 0
        },
        "id": "WZ7BoFHy8kTk",
        "outputId": "f4555cb7-fdbf-40a1-cf6f-fc7242ac5588"
      },
      "source": [
        "fig,ax = plt.subplots(figsize=(10,8))\n",
        "ax.plot(range(200), cost_history[:200], 'b.')"
      ],
      "execution_count": 30,
      "outputs": [
        {
          "output_type": "execute_result",
          "data": {
            "text/plain": [
              "[<matplotlib.lines.Line2D at 0x7f49285e93f0>]"
            ]
          },
          "metadata": {},
          "execution_count": 30
        },
        {
          "output_type": "display_data",
          "data": {
            "text/plain": [
              "<Figure size 1000x800 with 1 Axes>"
            ],
            "image/png": "[encoded data removed]"
          },
          "metadata": {}
        }
      ]
    },
    {
      "cell_type": "markdown",
      "metadata": {
        "id": "JYhOp3fjnh2G"
      },
      "source": [
        "# Stochastic Gradient Descent"
      ]
    },
    {
      "cell_type": "markdown",
      "source": [
        "In Batch Gradient Descent we were considering all the examples for every step of Gradient Descent. But what if our dataset is very huge. Deep learning models crave for data. The more the data the more chances of a model to be good. Suppose our dataset has 5 million examples, then just to take one step the model will have to calculate the gradients of all the 5 million examples. This does not seem an efficient way. To tackle this problem we have Stochastic Gradient Descent. In Stochastic Gradient Descent (SGD), we consider just one example at a time to take a single step."
      ],
      "metadata": {
        "id": "10N2dcwWUctJ"
      }
    },
    {
      "cell_type": "code",
      "metadata": {
        "id": "aVwD7Cqw8m1d"
      },
      "source": [
        "def stocashtic_gradient_descent(X, y, y_pred, learning_rate=0.01, iterations=10):\n",
        "    '''\n",
        "    X = Matrix of X with added bias units\n",
        "    y = Vector of Y\n",
        "    y_pred = Vector of y_pred np.random.randn(j,1)\n",
        "    learning_rate\n",
        "    iterations = no of iterations\n",
        "\n",
        "    Returns the final y_pred vector and array of cost history over no of iterations\n",
        "    '''\n",
        "\n",
        "    m = len(y)\n",
        "    cost_history = np.zeros(iterations)\n",
        "\n",
        "    for it in range(iterations):\n",
        "        cost = 0.0\n",
        "\n",
        "        for i in range(m):\n",
        "            rand_ind = np.random.randint(0,m)\n",
        "            X_i = X[rand_ind, :].reshape(1, X.shape[1])\n",
        "            y_i = y[rand_ind].reshape(1,1)\n",
        "            prediction = np.dot(X_i, y_pred)\n",
        "\n",
        "            y_pred = y_pred - (1 / m) * learning_rate *(X_i.T.dot((prediction - y_i)))\n",
        "            cost += cal_cost(y_pred, X_i, y_i)\n",
        "\n",
        "        cost_history[it]  = cost\n",
        "\n",
        "    return y_pred, cost_history"
      ],
      "execution_count": 31,
      "outputs": []
    },
    {
      "cell_type": "code",
      "metadata": {
        "colab": {
          "base_uri": "https://localhost:8080/"
        },
        "id": "Yk6pfB5c8tPz",
        "outputId": "8e13acde-b59a-427f-ec24-97d926343744"
      },
      "source": [
        "lr = 0.5\n",
        "n_iter = 50\n",
        "y_pred = np.random.randn(2, 1)\n",
        "X_b = np.c_[np.ones((len(X), 1)), X]\n",
        "y_pred, cost_history = stocashtic_gradient_descent(X_b, y, y_pred, lr, n_iter)\n",
        "\n",
        "print('y_pred[0]: {:0.3f}\\ny_pred[1]: {:0.3f}'.format(y_pred[0][0], y_pred[1][0]))\n",
        "print('Final error: {:0.3f}'.format(cost_history[-1]))"
      ],
      "execution_count": 32,
      "outputs": [
        {
          "output_type": "stream",
          "name": "stdout",
          "text": [
            "y_pred[0]: 4.219\n",
            "y_pred[1]: 2.871\n",
            "Final error: 48.843\n"
          ]
        }
      ]
    },
    {
      "cell_type": "code",
      "metadata": {
        "colab": {
          "base_uri": "https://localhost:8080/",
          "height": 0
        },
        "id": "YiJUgS7o8u2e",
        "outputId": "c683b528-5cd8-45a1-c3aa-837654b5a5c4"
      },
      "source": [
        "fig, ax = plt.subplots(figsize=(10,8))\n",
        "\n",
        "ax.set_ylabel('Error')\n",
        "ax.set_xlabel('Number of iterations')\n",
        "y_pred = np.random.randn(2,1)\n",
        "\n",
        "ax.plot(range(n_iter), cost_history, 'b.')"
      ],
      "execution_count": 33,
      "outputs": [
        {
          "output_type": "execute_result",
          "data": {
            "text/plain": [
              "[<matplotlib.lines.Line2D at 0x7f4928111cc0>]"
            ]
          },
          "metadata": {},
          "execution_count": 33
        },
        {
          "output_type": "display_data",
          "data": {
            "text/plain": [
              "<Figure size 1000x800 with 1 Axes>"
            ],
            "image/png": "[encoded data removed]"
          },
          "metadata": {}
        }
      ]
    },
    {
      "cell_type": "markdown",
      "metadata": {
        "id": "ScckWktynk1o"
      },
      "source": [
        "# Mini Batch Gradient Descent"
      ]
    },
    {
      "cell_type": "markdown",
      "source": [
        "We have seen the Batch Gradient Descent. We have also seen the Stochastic Gradient Descent. Batch Gradient Descent can be used for smoother curves. SGD can be used when the dataset is large. Batch Gradient Descent converges directly to minima. SGD converges faster for larger datasets. But, since in SGD we use only one example at a time, we cannot implement the vectorized implementation on it. This can slow down the computations. To tackle this problem, a mixture of Batch Gradient Descent and SGD is used.\n",
        "Neither we use all the dataset all at once nor we use the single example at a time. We use a batch of a fixed number of training examples which is less than the actual dataset and call it a mini-batch. Doing this helps us achieve the advantages of both the former variants we saw."
      ],
      "metadata": {
        "id": "ZTVz-QssUkuE"
      }
    },
    {
      "cell_type": "code",
      "metadata": {
        "id": "4JtxFVL78wEm"
      },
      "source": [
        "def minibatch_gradient_descent(X, y, y_pred, learning_rate=0.01, iterations=10, batch_size=20):\n",
        "    '''\n",
        "    X = Matrix of X without added bias units\n",
        "    y = Vector of Y\n",
        "    y_pred = Vector of y_preds np.random.randn(j, 1)\n",
        "    learning_rate\n",
        "    iterations = no of iterations\n",
        "\n",
        "    Returns the final theta vector and array of cost history over no of iterations\n",
        "    '''\n",
        "\n",
        "    m = len(y)\n",
        "    cost_history = np.zeros(iterations)\n",
        "    n_batches = int(m / batch_size)\n",
        "\n",
        "    for it in range(iterations):\n",
        "        cost = 0.0\n",
        "        indices = np.random.permutation(m)\n",
        "        X = X[indices]\n",
        "        y = y[indices]\n",
        "\n",
        "        for i in range(0, m, batch_size):\n",
        "            X_i = X[i: i + batch_size]\n",
        "            y_i = y[i: i + batch_size]\n",
        "\n",
        "            X_i = np.c_[np.ones(len(X_i)), X_i]\n",
        "            prediction = np.dot(X_i, y_pred)\n",
        "\n",
        "            y_pred = y_pred - (1 / m) * learning_rate * (X_i.T.dot((prediction - y_i)))\n",
        "            cost += cal_cost(y_pred, X_i, y_i)\n",
        "\n",
        "        cost_history[it]  = cost\n",
        "\n",
        "    return y_pred, cost_history"
      ],
      "execution_count": 13,
      "outputs": []
    },
    {
      "cell_type": "code",
      "metadata": {
        "colab": {
          "base_uri": "https://localhost:8080/"
        },
        "id": "SpbsVwA28znL",
        "outputId": "dae75209-7c98-4220-cb95-832e206fd213"
      },
      "source": [
        "lr = 0.1\n",
        "n_iter = 200\n",
        "y_pred = np.random.randn(2,1)\n",
        "y_pred, cost_history = minibatch_gradient_descent(X, y, y_pred, lr, n_iter)\n",
        "\n",
        "print('y_pred[0]: {:0.3f}\\ny_pred[1]: {:0.3f}'.format(y_pred[0][0], y_pred[1][0]))\n",
        "print('Final error: {:0.3f}'.format(cost_history[-1]))"
      ],
      "execution_count": 14,
      "outputs": [
        {
          "output_type": "stream",
          "name": "stdout",
          "text": [
            "y_pred[0]: 4.148\n",
            "y_pred[1]: 2.827\n",
            "Final error: 807.488\n"
          ]
        }
      ]
    },
    {
      "cell_type": "code",
      "metadata": {
        "colab": {
          "base_uri": "https://localhost:8080/",
          "height": 713
        },
        "id": "Q_ivOYHT817C",
        "outputId": "db3a2634-6a05-4a7b-e080-cb5160bf4b58"
      },
      "source": [
        "fig, ax = plt.subplots(figsize=(10,8))\n",
        "\n",
        "ax.set_ylabel('Error')\n",
        "ax.set_xlabel('Number of iterations')\n",
        "y_pred = np.random.randn(2,1)\n",
        "\n",
        "ax.plot(range(n_iter), cost_history, 'b.')"
      ],
      "execution_count": 15,
      "outputs": [
        {
          "output_type": "execute_result",
          "data": {
            "text/plain": [
              "[<matplotlib.lines.Line2D at 0x7f4930073b50>]"
            ]
          },
          "metadata": {},
          "execution_count": 15
        },
        {
          "output_type": "display_data",
          "data": {
            "text/plain": [
              "<Figure size 1000x800 with 1 Axes>"
            ],
            "image/png": "[encoded data removed]"
          },
          "metadata": {}
        }
      ]
    },
    {
      "cell_type": "code",
      "metadata": {
        "id": "3Sn1erIU83ck"
      },
      "source": [],
      "execution_count": 33,
      "outputs": []
    },
    {
      "cell_type": "markdown",
      "source": [
        "Things to try out:\n",
        "\n",
        "1. Change batch size in mini-batch gradient descent.\n",
        "2. Test all the three out on real datasets.\n",
        "3. Compare the effects of changing learning rate by the same amount in Batch GD, SGD and Mini-batch GD."
      ],
      "metadata": {
        "id": "0neTARjKUoP4"
      }
    },
    {
      "cell_type": "markdown",
      "source": [
        "#ANSWERS"
      ],
      "metadata": {
        "id": "b_sBZKWJoG55"
      }
    },
    {
      "cell_type": "markdown",
      "source": [
        "#ANSWER:1\n",
        "\n",
        "\n",
        "In mini-batch gradient descent, the batch size refers to the number of training examples utilized in one iteration. Adjusting the batch size can have an impact on the training process and the convergence of the model. Here are some considerations when changing the batch size:\n",
        "\n",
        "Batch Size Selection:\n",
        "\n",
        "Larger batch sizes lead to faster convergence as more training examples are processed in each iteration.\n",
        "Smaller batch sizes provide a regularizing effect and can lead to a better generalization.\n",
        "Computational Efficiency:\n",
        "\n",
        "Larger batch sizes take advantage of parallel processing and can be more computationally efficient, especially on hardware with parallel capabilities (e.g., GPUs).\n",
        "Smaller batch sizes may lead to faster iterations but can be less computationally efficient.\n",
        "Memory Constraints:\n",
        "\n",
        "Larger batch sizes require more memory, which might be a constraint on certain hardware.\n",
        "Smaller batch sizes consume less memory but might lead to less efficient GPU utilization.\n",
        "Stochastic Gradient Descent (SGD) vs. Mini-Batch:\n",
        "\n",
        "A batch size of 1 corresponds to pure stochastic gradient descent (SGD).\n",
        "A batch size equal to the size of the entire dataset is known as batch gradient descent.\n",
        "Mini-batch sizes generally fall in between, providing a balance between the advantages of SGD and batch gradient descent.\n",
        "Impact on Convergence:\n",
        "\n",
        "The choice of batch size can affect the convergence behavior. Smaller batch sizes introduce more noise but may escape local minima, leading to better generalization.\n",
        "To change the batch size, you typically need to modify the code where the training loop is implemented. Ensure that the data is divided into batches of the desired size, and the gradient descent update is performed on each batch.\n",
        "\n",
        "Here's a simplified example in Python using a generic deep learning framework like TensorFlow or PyTorch:\n"
      ],
      "metadata": {
        "id": "BtiqzlSYoJpP"
      }
    },
    {
      "cell_type": "code",
      "source": [
        "import numpy as np\n",
        "\n",
        "def cal_cost(theta, X, y):\n",
        "    m = len(y)\n",
        "    cost = (1/2*m) * np.sum(np.square(np.dot(X, theta) - y))\n",
        "    return cost\n",
        "\n",
        "def minibatch_gradient_descent(X, y, y_pred, learning_rate=0.01, iterations=10, batch_size=20):\n",
        "    '''\n",
        "    X = Matrix of X without added bias units\n",
        "    y = Vector of Y\n",
        "    y_pred = Vector of y_preds np.random.randn(j, 1)\n",
        "    learning_rate\n",
        "    iterations = no of iterations\n",
        "\n",
        "    Returns the final theta vector and array of cost history over no of iterations\n",
        "    '''\n",
        "\n",
        "    m = len(y)\n",
        "    cost_history = np.zeros(iterations)\n",
        "    n_batches = int(m / batch_size)\n",
        "\n",
        "    for it in range(iterations):\n",
        "        cost = 0.0\n",
        "        indices = np.random.permutation(m)\n",
        "        X = X[indices]\n",
        "        y = y[indices]\n",
        "\n",
        "        for i in range(0, m, batch_size):\n",
        "            X_i = X[i: i + batch_size]\n",
        "            y_i = y[i: i + batch_size]\n",
        "\n",
        "            X_i = np.c_[np.ones(len(X_i)), X_i]\n",
        "            prediction = np.dot(X_i, y_pred)\n",
        "\n",
        "            y_pred = y_pred - (1 / m) * learning_rate * (X_i.T.dot((prediction - y_i)))\n",
        "            cost += cal_cost(y_pred, X_i, y_i)\n",
        "\n",
        "        cost_history[it]  = cost\n",
        "\n",
        "    return y_pred, cost_history\n",
        "\n"
      ],
      "metadata": {
        "id": "lx9QfpWroT2e"
      },
      "execution_count": 34,
      "outputs": []
    },
    {
      "cell_type": "markdown",
      "source": [
        "#ANSWER:2\n",
        "\n"
      ],
      "metadata": {
        "id": "DedeC1CzoO-G"
      }
    },
    {
      "cell_type": "code",
      "source": [
        "import numpy as np\n",
        "import tensorflow as tf\n",
        "from sklearn.model_selection import train_test_split\n",
        "from sklearn.preprocessing import StandardScaler\n",
        "from sklearn.datasets import load_iris\n",
        "\n",
        "# Load the Iris dataset\n",
        "iris = load_iris()\n",
        "X = iris.data\n",
        "y = iris.target\n",
        "\n",
        "# Standardize the features\n",
        "scaler = StandardScaler()\n",
        "X = scaler.fit_transform(X)\n",
        "\n",
        "# Split the dataset into training and testing sets\n",
        "X_train, X_test, y_train, y_test = train_test_split(X, y, test_size=0.2, random_state=42)\n",
        "\n",
        "# Convert labels to one-hot encoding\n",
        "y_train = tf.keras.utils.to_categorical(y_train, num_classes=3)\n",
        "y_test = tf.keras.utils.to_categorical(y_test, num_classes=3)\n",
        "\n",
        "# Define a simple neural network\n",
        "model = tf.keras.Sequential([\n",
        "    tf.keras.layers.Dense(64, activation='relu', input_shape=(4,)),\n",
        "    tf.keras.layers.Dense(3, activation='softmax')\n",
        "])\n",
        "\n",
        "# Compile the model\n",
        "model.compile(optimizer='adam', loss='categorical_crossentropy', metrics=['accuracy'])\n",
        "\n",
        "# Train with full batch size\n",
        "model.fit(X_train, y_train, epochs=50, batch_size=len(X_train), validation_data=(X_test, y_test))\n",
        "print(\"Training accuracy with full batch size:\", model.evaluate(X_train, y_train, verbose=0)[1])\n",
        "print(\"Testing accuracy with full batch size:\", model.evaluate(X_test, y_test, verbose=0)[1])\n",
        "\n",
        "# Train with mini-batch size\n",
        "model.fit(X_train, y_train, epochs=50, batch_size=32, validation_data=(X_test, y_test))\n",
        "print(\"Training accuracy with mini-batch size:\", model.evaluate(X_train, y_train, verbose=0)[1])\n",
        "print(\"Testing accuracy with mini-batch size:\", model.evaluate(X_test, y_test, verbose=0)[1])\n",
        "\n",
        "# Train with stochastic gradient descent (batch size 1)\n",
        "model.fit(X_train, y_train, epochs=50, batch_size=1, validation_data=(X_test, y_test))\n",
        "print(\"Training accuracy with stochastic gradient descent:\", model.evaluate(X_train, y_train, verbose=0)[1])\n",
        "print(\"Testing accuracy with stochastic gradient descent:\", model.evaluate(X_test, y_test, verbose=0)[1])\n"
      ],
      "metadata": {
        "id": "SPn0jvQFobx1",
        "outputId": "eff61e69-cd12-42a4-b973-edf0ae39f8cd",
        "colab": {
          "base_uri": "https://localhost:8080/"
        }
      },
      "execution_count": 35,
      "outputs": [
        {
          "output_type": "stream",
          "name": "stdout",
          "text": [
            "Epoch 1/50\n",
            "1/1 [==============================] - 1s 917ms/step - loss: 1.0888 - accuracy: 0.3250 - val_loss: 1.0444 - val_accuracy: 0.3667\n",
            "Epoch 2/50\n",
            "1/1 [==============================] - 0s 44ms/step - loss: 1.0716 - accuracy: 0.3250 - val_loss: 1.0279 - val_accuracy: 0.4000\n",
            "Epoch 3/50\n",
            "1/1 [==============================] - 0s 37ms/step - loss: 1.0546 - accuracy: 0.3333 - val_loss: 1.0116 - val_accuracy: 0.4000\n",
            "Epoch 4/50\n",
            "1/1 [==============================] - 0s 36ms/step - loss: 1.0378 - accuracy: 0.3667 - val_loss: 0.9954 - val_accuracy: 0.4667\n",
            "Epoch 5/50\n",
            "1/1 [==============================] - 0s 36ms/step - loss: 1.0213 - accuracy: 0.4250 - val_loss: 0.9793 - val_accuracy: 0.5333\n",
            "Epoch 6/50\n",
            "1/1 [==============================] - 0s 43ms/step - loss: 1.0050 - accuracy: 0.4333 - val_loss: 0.9634 - val_accuracy: 0.6000\n",
            "Epoch 7/50\n",
            "1/1 [==============================] - 0s 36ms/step - loss: 0.9890 - accuracy: 0.4833 - val_loss: 0.9477 - val_accuracy: 0.6000\n",
            "Epoch 8/50\n",
            "1/1 [==============================] - 0s 35ms/step - loss: 0.9732 - accuracy: 0.5333 - val_loss: 0.9322 - val_accuracy: 0.6333\n",
            "Epoch 9/50\n",
            "1/1 [==============================] - 0s 36ms/step - loss: 0.9576 - accuracy: 0.5833 - val_loss: 0.9169 - val_accuracy: 0.6333\n",
            "Epoch 10/50\n",
            "1/1 [==============================] - 0s 40ms/step - loss: 0.9424 - accuracy: 0.6167 - val_loss: 0.9018 - val_accuracy: 0.6333\n",
            "Epoch 11/50\n",
            "1/1 [==============================] - 0s 34ms/step - loss: 0.9273 - accuracy: 0.6500 - val_loss: 0.8869 - val_accuracy: 0.7000\n",
            "Epoch 12/50\n",
            "1/1 [==============================] - 0s 36ms/step - loss: 0.9125 - accuracy: 0.7250 - val_loss: 0.8722 - val_accuracy: 0.8000\n",
            "Epoch 13/50\n",
            "1/1 [==============================] - 0s 66ms/step - loss: 0.8980 - accuracy: 0.7417 - val_loss: 0.8577 - val_accuracy: 0.8000\n",
            "Epoch 14/50\n",
            "1/1 [==============================] - 0s 36ms/step - loss: 0.8837 - accuracy: 0.7750 - val_loss: 0.8434 - val_accuracy: 0.8000\n",
            "Epoch 15/50\n",
            "1/1 [==============================] - 0s 38ms/step - loss: 0.8697 - accuracy: 0.7917 - val_loss: 0.8294 - val_accuracy: 0.8000\n",
            "Epoch 16/50\n",
            "1/1 [==============================] - 0s 37ms/step - loss: 0.8560 - accuracy: 0.8083 - val_loss: 0.8156 - val_accuracy: 0.8333\n",
            "Epoch 17/50\n",
            "1/1 [==============================] - 0s 39ms/step - loss: 0.8425 - accuracy: 0.8083 - val_loss: 0.8021 - val_accuracy: 0.8333\n",
            "Epoch 18/50\n",
            "1/1 [==============================] - 0s 39ms/step - loss: 0.8293 - accuracy: 0.8083 - val_loss: 0.7889 - val_accuracy: 0.8333\n",
            "Epoch 19/50\n",
            "1/1 [==============================] - 0s 35ms/step - loss: 0.8165 - accuracy: 0.8083 - val_loss: 0.7759 - val_accuracy: 0.8333\n",
            "Epoch 20/50\n",
            "1/1 [==============================] - 0s 36ms/step - loss: 0.8039 - accuracy: 0.8083 - val_loss: 0.7631 - val_accuracy: 0.8333\n",
            "Epoch 21/50\n",
            "1/1 [==============================] - 0s 40ms/step - loss: 0.7915 - accuracy: 0.8083 - val_loss: 0.7506 - val_accuracy: 0.8333\n",
            "Epoch 22/50\n",
            "1/1 [==============================] - 0s 35ms/step - loss: 0.7794 - accuracy: 0.8083 - val_loss: 0.7384 - val_accuracy: 0.8333\n",
            "Epoch 23/50\n",
            "1/1 [==============================] - 0s 35ms/step - loss: 0.7676 - accuracy: 0.8083 - val_loss: 0.7265 - val_accuracy: 0.8333\n",
            "Epoch 24/50\n",
            "1/1 [==============================] - 0s 38ms/step - loss: 0.7561 - accuracy: 0.8083 - val_loss: 0.7148 - val_accuracy: 0.8333\n",
            "Epoch 25/50\n",
            "1/1 [==============================] - 0s 58ms/step - loss: 0.7448 - accuracy: 0.8083 - val_loss: 0.7033 - val_accuracy: 0.8333\n",
            "Epoch 26/50\n",
            "1/1 [==============================] - 0s 37ms/step - loss: 0.7338 - accuracy: 0.8083 - val_loss: 0.6920 - val_accuracy: 0.8333\n",
            "Epoch 27/50\n",
            "1/1 [==============================] - 0s 40ms/step - loss: 0.7231 - accuracy: 0.8083 - val_loss: 0.6811 - val_accuracy: 0.8667\n",
            "Epoch 28/50\n",
            "1/1 [==============================] - 0s 37ms/step - loss: 0.7127 - accuracy: 0.8167 - val_loss: 0.6703 - val_accuracy: 0.8667\n",
            "Epoch 29/50\n",
            "1/1 [==============================] - 0s 61ms/step - loss: 0.7025 - accuracy: 0.8250 - val_loss: 0.6598 - val_accuracy: 0.8667\n",
            "Epoch 30/50\n",
            "1/1 [==============================] - 0s 38ms/step - loss: 0.6926 - accuracy: 0.8167 - val_loss: 0.6496 - val_accuracy: 0.9000\n",
            "Epoch 31/50\n",
            "1/1 [==============================] - 0s 33ms/step - loss: 0.6830 - accuracy: 0.8167 - val_loss: 0.6396 - val_accuracy: 0.9000\n",
            "Epoch 32/50\n",
            "1/1 [==============================] - 0s 33ms/step - loss: 0.6735 - accuracy: 0.8167 - val_loss: 0.6298 - val_accuracy: 0.9000\n",
            "Epoch 33/50\n",
            "1/1 [==============================] - 0s 36ms/step - loss: 0.6644 - accuracy: 0.8167 - val_loss: 0.6203 - val_accuracy: 0.9000\n",
            "Epoch 34/50\n",
            "1/1 [==============================] - 0s 33ms/step - loss: 0.6554 - accuracy: 0.8167 - val_loss: 0.6110 - val_accuracy: 0.9000\n",
            "Epoch 35/50\n",
            "1/1 [==============================] - 0s 34ms/step - loss: 0.6467 - accuracy: 0.8167 - val_loss: 0.6019 - val_accuracy: 0.9000\n",
            "Epoch 36/50\n",
            "1/1 [==============================] - 0s 37ms/step - loss: 0.6382 - accuracy: 0.8167 - val_loss: 0.5930 - val_accuracy: 0.9000\n",
            "Epoch 37/50\n",
            "1/1 [==============================] - 0s 33ms/step - loss: 0.6299 - accuracy: 0.8167 - val_loss: 0.5844 - val_accuracy: 0.9000\n",
            "Epoch 38/50\n",
            "1/1 [==============================] - 0s 36ms/step - loss: 0.6218 - accuracy: 0.8167 - val_loss: 0.5759 - val_accuracy: 0.9000\n",
            "Epoch 39/50\n",
            "1/1 [==============================] - 0s 34ms/step - loss: 0.6139 - accuracy: 0.8167 - val_loss: 0.5677 - val_accuracy: 0.9000\n",
            "Epoch 40/50\n",
            "1/1 [==============================] - 0s 35ms/step - loss: 0.6063 - accuracy: 0.8167 - val_loss: 0.5596 - val_accuracy: 0.9000\n",
            "Epoch 41/50\n",
            "1/1 [==============================] - 0s 37ms/step - loss: 0.5988 - accuracy: 0.8167 - val_loss: 0.5517 - val_accuracy: 0.9000\n",
            "Epoch 42/50\n",
            "1/1 [==============================] - 0s 39ms/step - loss: 0.5916 - accuracy: 0.8167 - val_loss: 0.5441 - val_accuracy: 0.9000\n",
            "Epoch 43/50\n",
            "1/1 [==============================] - 0s 32ms/step - loss: 0.5845 - accuracy: 0.8167 - val_loss: 0.5366 - val_accuracy: 0.9000\n",
            "Epoch 44/50\n",
            "1/1 [==============================] - 0s 52ms/step - loss: 0.5776 - accuracy: 0.8167 - val_loss: 0.5293 - val_accuracy: 0.9000\n",
            "Epoch 45/50\n",
            "1/1 [==============================] - 0s 36ms/step - loss: 0.5709 - accuracy: 0.8167 - val_loss: 0.5221 - val_accuracy: 0.9000\n",
            "Epoch 46/50\n",
            "1/1 [==============================] - 0s 33ms/step - loss: 0.5644 - accuracy: 0.8167 - val_loss: 0.5152 - val_accuracy: 0.9000\n",
            "Epoch 47/50\n",
            "1/1 [==============================] - 0s 34ms/step - loss: 0.5580 - accuracy: 0.8167 - val_loss: 0.5084 - val_accuracy: 0.9000\n",
            "Epoch 48/50\n",
            "1/1 [==============================] - 0s 35ms/step - loss: 0.5518 - accuracy: 0.8167 - val_loss: 0.5018 - val_accuracy: 0.9000\n",
            "Epoch 49/50\n",
            "1/1 [==============================] - 0s 54ms/step - loss: 0.5458 - accuracy: 0.8167 - val_loss: 0.4954 - val_accuracy: 0.9000\n",
            "Epoch 50/50\n",
            "1/1 [==============================] - 0s 34ms/step - loss: 0.5399 - accuracy: 0.8167 - val_loss: 0.4891 - val_accuracy: 0.9000\n",
            "Training accuracy with full batch size: 0.8166666626930237\n",
            "Testing accuracy with full batch size: 0.8999999761581421\n",
            "Epoch 1/50\n",
            "4/4 [==============================] - 0s 24ms/step - loss: 0.5271 - accuracy: 0.8167 - val_loss: 0.4657 - val_accuracy: 0.9000\n",
            "Epoch 2/50\n",
            "4/4 [==============================] - 0s 11ms/step - loss: 0.5067 - accuracy: 0.8333 - val_loss: 0.4448 - val_accuracy: 0.9000\n",
            "Epoch 3/50\n",
            "4/4 [==============================] - 0s 11ms/step - loss: 0.4878 - accuracy: 0.8417 - val_loss: 0.4263 - val_accuracy: 0.9000\n",
            "Epoch 4/50\n",
            "4/4 [==============================] - 0s 10ms/step - loss: 0.4719 - accuracy: 0.8417 - val_loss: 0.4093 - val_accuracy: 0.9000\n",
            "Epoch 5/50\n",
            "4/4 [==============================] - 0s 10ms/step - loss: 0.4569 - accuracy: 0.8417 - val_loss: 0.3935 - val_accuracy: 0.9000\n",
            "Epoch 6/50\n",
            "4/4 [==============================] - 0s 11ms/step - loss: 0.4439 - accuracy: 0.8333 - val_loss: 0.3792 - val_accuracy: 0.9000\n",
            "Epoch 7/50\n",
            "4/4 [==============================] - 0s 11ms/step - loss: 0.4310 - accuracy: 0.8333 - val_loss: 0.3662 - val_accuracy: 0.9000\n",
            "Epoch 8/50\n",
            "4/4 [==============================] - 0s 19ms/step - loss: 0.4203 - accuracy: 0.8417 - val_loss: 0.3539 - val_accuracy: 0.9000\n",
            "Epoch 9/50\n",
            "4/4 [==============================] - 0s 11ms/step - loss: 0.4096 - accuracy: 0.8417 - val_loss: 0.3430 - val_accuracy: 0.9000\n",
            "Epoch 10/50\n",
            "4/4 [==============================] - 0s 11ms/step - loss: 0.3998 - accuracy: 0.8500 - val_loss: 0.3328 - val_accuracy: 0.9000\n",
            "Epoch 11/50\n",
            "4/4 [==============================] - 0s 11ms/step - loss: 0.3909 - accuracy: 0.8500 - val_loss: 0.3234 - val_accuracy: 0.9000\n",
            "Epoch 12/50\n",
            "4/4 [==============================] - 0s 11ms/step - loss: 0.3824 - accuracy: 0.8500 - val_loss: 0.3145 - val_accuracy: 0.9000\n",
            "Epoch 13/50\n",
            "4/4 [==============================] - 0s 11ms/step - loss: 0.3746 - accuracy: 0.8500 - val_loss: 0.3063 - val_accuracy: 0.9000\n",
            "Epoch 14/50\n",
            "4/4 [==============================] - 0s 14ms/step - loss: 0.3673 - accuracy: 0.8500 - val_loss: 0.2984 - val_accuracy: 0.9000\n",
            "Epoch 15/50\n",
            "4/4 [==============================] - 0s 13ms/step - loss: 0.3601 - accuracy: 0.8500 - val_loss: 0.2914 - val_accuracy: 0.9000\n",
            "Epoch 16/50\n",
            "4/4 [==============================] - 0s 12ms/step - loss: 0.3534 - accuracy: 0.8667 - val_loss: 0.2844 - val_accuracy: 0.9000\n",
            "Epoch 17/50\n",
            "4/4 [==============================] - 0s 17ms/step - loss: 0.3472 - accuracy: 0.8667 - val_loss: 0.2781 - val_accuracy: 0.9000\n",
            "Epoch 18/50\n",
            "4/4 [==============================] - 0s 19ms/step - loss: 0.3412 - accuracy: 0.8667 - val_loss: 0.2720 - val_accuracy: 0.9000\n",
            "Epoch 19/50\n",
            "4/4 [==============================] - 0s 12ms/step - loss: 0.3352 - accuracy: 0.8750 - val_loss: 0.2660 - val_accuracy: 0.9000\n",
            "Epoch 20/50\n",
            "4/4 [==============================] - 0s 12ms/step - loss: 0.3297 - accuracy: 0.8750 - val_loss: 0.2605 - val_accuracy: 0.9000\n",
            "Epoch 21/50\n",
            "4/4 [==============================] - 0s 12ms/step - loss: 0.3241 - accuracy: 0.8750 - val_loss: 0.2550 - val_accuracy: 0.9333\n",
            "Epoch 22/50\n",
            "4/4 [==============================] - 0s 17ms/step - loss: 0.3192 - accuracy: 0.8750 - val_loss: 0.2497 - val_accuracy: 0.9667\n",
            "Epoch 23/50\n",
            "4/4 [==============================] - 0s 13ms/step - loss: 0.3137 - accuracy: 0.8833 - val_loss: 0.2450 - val_accuracy: 0.9667\n",
            "Epoch 24/50\n",
            "4/4 [==============================] - 0s 17ms/step - loss: 0.3089 - accuracy: 0.8833 - val_loss: 0.2406 - val_accuracy: 0.9667\n",
            "Epoch 25/50\n",
            "4/4 [==============================] - 0s 12ms/step - loss: 0.3041 - accuracy: 0.9000 - val_loss: 0.2361 - val_accuracy: 0.9667\n",
            "Epoch 26/50\n",
            "4/4 [==============================] - 0s 12ms/step - loss: 0.2990 - accuracy: 0.9000 - val_loss: 0.2320 - val_accuracy: 0.9667\n",
            "Epoch 27/50\n",
            "4/4 [==============================] - 0s 13ms/step - loss: 0.2943 - accuracy: 0.9000 - val_loss: 0.2282 - val_accuracy: 0.9667\n",
            "Epoch 28/50\n",
            "4/4 [==============================] - 0s 15ms/step - loss: 0.2898 - accuracy: 0.9083 - val_loss: 0.2241 - val_accuracy: 0.9667\n",
            "Epoch 29/50\n",
            "4/4 [==============================] - 0s 11ms/step - loss: 0.2854 - accuracy: 0.9083 - val_loss: 0.2203 - val_accuracy: 0.9667\n",
            "Epoch 30/50\n",
            "4/4 [==============================] - 0s 12ms/step - loss: 0.2809 - accuracy: 0.9083 - val_loss: 0.2164 - val_accuracy: 0.9667\n",
            "Epoch 31/50\n",
            "4/4 [==============================] - 0s 12ms/step - loss: 0.2764 - accuracy: 0.9083 - val_loss: 0.2125 - val_accuracy: 0.9667\n",
            "Epoch 32/50\n",
            "4/4 [==============================] - 0s 12ms/step - loss: 0.2722 - accuracy: 0.9083 - val_loss: 0.2085 - val_accuracy: 0.9667\n",
            "Epoch 33/50\n",
            "4/4 [==============================] - 0s 13ms/step - loss: 0.2678 - accuracy: 0.9083 - val_loss: 0.2044 - val_accuracy: 0.9667\n",
            "Epoch 34/50\n",
            "4/4 [==============================] - 0s 11ms/step - loss: 0.2638 - accuracy: 0.9167 - val_loss: 0.2006 - val_accuracy: 0.9667\n",
            "Epoch 35/50\n",
            "4/4 [==============================] - 0s 11ms/step - loss: 0.2599 - accuracy: 0.9167 - val_loss: 0.1972 - val_accuracy: 0.9667\n",
            "Epoch 36/50\n",
            "4/4 [==============================] - 0s 11ms/step - loss: 0.2555 - accuracy: 0.9167 - val_loss: 0.1937 - val_accuracy: 0.9667\n",
            "Epoch 37/50\n",
            "4/4 [==============================] - 0s 12ms/step - loss: 0.2515 - accuracy: 0.9167 - val_loss: 0.1901 - val_accuracy: 0.9667\n",
            "Epoch 38/50\n",
            "4/4 [==============================] - 0s 12ms/step - loss: 0.2476 - accuracy: 0.9250 - val_loss: 0.1867 - val_accuracy: 0.9667\n",
            "Epoch 39/50\n",
            "4/4 [==============================] - 0s 11ms/step - loss: 0.2438 - accuracy: 0.9250 - val_loss: 0.1833 - val_accuracy: 0.9667\n",
            "Epoch 40/50\n",
            "4/4 [==============================] - 0s 12ms/step - loss: 0.2403 - accuracy: 0.9250 - val_loss: 0.1803 - val_accuracy: 0.9667\n",
            "Epoch 41/50\n",
            "4/4 [==============================] - 0s 12ms/step - loss: 0.2366 - accuracy: 0.9333 - val_loss: 0.1773 - val_accuracy: 0.9667\n",
            "Epoch 42/50\n",
            "4/4 [==============================] - 0s 12ms/step - loss: 0.2327 - accuracy: 0.9417 - val_loss: 0.1744 - val_accuracy: 0.9667\n",
            "Epoch 43/50\n",
            "4/4 [==============================] - 0s 11ms/step - loss: 0.2292 - accuracy: 0.9417 - val_loss: 0.1716 - val_accuracy: 0.9667\n",
            "Epoch 44/50\n",
            "4/4 [==============================] - 0s 12ms/step - loss: 0.2256 - accuracy: 0.9500 - val_loss: 0.1685 - val_accuracy: 0.9667\n",
            "Epoch 45/50\n",
            "4/4 [==============================] - 0s 11ms/step - loss: 0.2223 - accuracy: 0.9500 - val_loss: 0.1654 - val_accuracy: 0.9667\n",
            "Epoch 46/50\n",
            "4/4 [==============================] - 0s 12ms/step - loss: 0.2187 - accuracy: 0.9500 - val_loss: 0.1627 - val_accuracy: 0.9667\n",
            "Epoch 47/50\n",
            "4/4 [==============================] - 0s 12ms/step - loss: 0.2155 - accuracy: 0.9500 - val_loss: 0.1603 - val_accuracy: 0.9667\n",
            "Epoch 48/50\n",
            "4/4 [==============================] - 0s 12ms/step - loss: 0.2121 - accuracy: 0.9500 - val_loss: 0.1578 - val_accuracy: 0.9667\n",
            "Epoch 49/50\n",
            "4/4 [==============================] - 0s 12ms/step - loss: 0.2090 - accuracy: 0.9500 - val_loss: 0.1554 - val_accuracy: 0.9667\n",
            "Epoch 50/50\n",
            "4/4 [==============================] - 0s 14ms/step - loss: 0.2055 - accuracy: 0.9500 - val_loss: 0.1525 - val_accuracy: 1.0000\n",
            "Training accuracy with mini-batch size: 0.949999988079071\n",
            "Testing accuracy with mini-batch size: 1.0\n",
            "Epoch 1/50\n",
            "120/120 [==============================] - 0s 2ms/step - loss: 0.2040 - accuracy: 0.9333 - val_loss: 0.1199 - val_accuracy: 1.0000\n",
            "Epoch 2/50\n",
            "120/120 [==============================] - 0s 2ms/step - loss: 0.1608 - accuracy: 0.9500 - val_loss: 0.1011 - val_accuracy: 1.0000\n",
            "Epoch 3/50\n",
            "120/120 [==============================] - 0s 2ms/step - loss: 0.1407 - accuracy: 0.9583 - val_loss: 0.0914 - val_accuracy: 1.0000\n",
            "Epoch 4/50\n",
            "120/120 [==============================] - 0s 2ms/step - loss: 0.1275 - accuracy: 0.9583 - val_loss: 0.0821 - val_accuracy: 1.0000\n",
            "Epoch 5/50\n",
            "120/120 [==============================] - 0s 2ms/step - loss: 0.1215 - accuracy: 0.9583 - val_loss: 0.0748 - val_accuracy: 1.0000\n",
            "Epoch 6/50\n",
            "120/120 [==============================] - 0s 2ms/step - loss: 0.1098 - accuracy: 0.9667 - val_loss: 0.0718 - val_accuracy: 1.0000\n",
            "Epoch 7/50\n",
            "120/120 [==============================] - 0s 3ms/step - loss: 0.1018 - accuracy: 0.9750 - val_loss: 0.0795 - val_accuracy: 0.9667\n",
            "Epoch 8/50\n",
            "120/120 [==============================] - 0s 3ms/step - loss: 0.0964 - accuracy: 0.9667 - val_loss: 0.0717 - val_accuracy: 1.0000\n",
            "Epoch 9/50\n",
            "120/120 [==============================] - 0s 3ms/step - loss: 0.0932 - accuracy: 0.9583 - val_loss: 0.0623 - val_accuracy: 1.0000\n",
            "Epoch 10/50\n",
            "120/120 [==============================] - 0s 3ms/step - loss: 0.0899 - accuracy: 0.9750 - val_loss: 0.0625 - val_accuracy: 1.0000\n",
            "Epoch 11/50\n",
            "120/120 [==============================] - 0s 3ms/step - loss: 0.0834 - accuracy: 0.9667 - val_loss: 0.0614 - val_accuracy: 1.0000\n",
            "Epoch 12/50\n",
            "120/120 [==============================] - 0s 3ms/step - loss: 0.0814 - accuracy: 0.9583 - val_loss: 0.0558 - val_accuracy: 1.0000\n",
            "Epoch 13/50\n",
            "120/120 [==============================] - 0s 3ms/step - loss: 0.0778 - accuracy: 0.9750 - val_loss: 0.0537 - val_accuracy: 1.0000\n",
            "Epoch 14/50\n",
            "120/120 [==============================] - 0s 3ms/step - loss: 0.0759 - accuracy: 0.9667 - val_loss: 0.0502 - val_accuracy: 1.0000\n",
            "Epoch 15/50\n",
            "120/120 [==============================] - 0s 3ms/step - loss: 0.0709 - accuracy: 0.9750 - val_loss: 0.0439 - val_accuracy: 1.0000\n",
            "Epoch 16/50\n",
            "120/120 [==============================] - 0s 3ms/step - loss: 0.0725 - accuracy: 0.9667 - val_loss: 0.0461 - val_accuracy: 1.0000\n",
            "Epoch 17/50\n",
            "120/120 [==============================] - 0s 3ms/step - loss: 0.0674 - accuracy: 0.9750 - val_loss: 0.0419 - val_accuracy: 1.0000\n",
            "Epoch 18/50\n",
            "120/120 [==============================] - 0s 4ms/step - loss: 0.0708 - accuracy: 0.9750 - val_loss: 0.0440 - val_accuracy: 1.0000\n",
            "Epoch 19/50\n",
            "120/120 [==============================] - 0s 2ms/step - loss: 0.0667 - accuracy: 0.9667 - val_loss: 0.0434 - val_accuracy: 1.0000\n",
            "Epoch 20/50\n",
            "120/120 [==============================] - 0s 2ms/step - loss: 0.0665 - accuracy: 0.9750 - val_loss: 0.0427 - val_accuracy: 1.0000\n",
            "Epoch 21/50\n",
            "120/120 [==============================] - 0s 2ms/step - loss: 0.0622 - accuracy: 0.9750 - val_loss: 0.0454 - val_accuracy: 1.0000\n",
            "Epoch 22/50\n",
            "120/120 [==============================] - 0s 2ms/step - loss: 0.0646 - accuracy: 0.9833 - val_loss: 0.0393 - val_accuracy: 1.0000\n",
            "Epoch 23/50\n",
            "120/120 [==============================] - 0s 2ms/step - loss: 0.0600 - accuracy: 0.9750 - val_loss: 0.0425 - val_accuracy: 1.0000\n",
            "Epoch 24/50\n",
            "120/120 [==============================] - 0s 2ms/step - loss: 0.0604 - accuracy: 0.9750 - val_loss: 0.0379 - val_accuracy: 1.0000\n",
            "Epoch 25/50\n",
            "120/120 [==============================] - 0s 3ms/step - loss: 0.0633 - accuracy: 0.9750 - val_loss: 0.0447 - val_accuracy: 1.0000\n",
            "Epoch 26/50\n",
            "120/120 [==============================] - 0s 2ms/step - loss: 0.0637 - accuracy: 0.9750 - val_loss: 0.0344 - val_accuracy: 1.0000\n",
            "Epoch 27/50\n",
            "120/120 [==============================] - 0s 2ms/step - loss: 0.0583 - accuracy: 0.9667 - val_loss: 0.0336 - val_accuracy: 1.0000\n",
            "Epoch 28/50\n",
            "120/120 [==============================] - 0s 2ms/step - loss: 0.0562 - accuracy: 0.9833 - val_loss: 0.0340 - val_accuracy: 1.0000\n",
            "Epoch 29/50\n",
            "120/120 [==============================] - 0s 2ms/step - loss: 0.0568 - accuracy: 0.9750 - val_loss: 0.0334 - val_accuracy: 1.0000\n",
            "Epoch 30/50\n",
            "120/120 [==============================] - 0s 2ms/step - loss: 0.0553 - accuracy: 0.9750 - val_loss: 0.0340 - val_accuracy: 1.0000\n",
            "Epoch 31/50\n",
            "120/120 [==============================] - 0s 2ms/step - loss: 0.0569 - accuracy: 0.9750 - val_loss: 0.0367 - val_accuracy: 1.0000\n",
            "Epoch 32/50\n",
            "120/120 [==============================] - 0s 2ms/step - loss: 0.0579 - accuracy: 0.9750 - val_loss: 0.0335 - val_accuracy: 1.0000\n",
            "Epoch 33/50\n",
            "120/120 [==============================] - 0s 2ms/step - loss: 0.0565 - accuracy: 0.9750 - val_loss: 0.0329 - val_accuracy: 1.0000\n",
            "Epoch 34/50\n",
            "120/120 [==============================] - 0s 2ms/step - loss: 0.0494 - accuracy: 0.9917 - val_loss: 0.0324 - val_accuracy: 1.0000\n",
            "Epoch 35/50\n",
            "120/120 [==============================] - 0s 2ms/step - loss: 0.0523 - accuracy: 0.9833 - val_loss: 0.0323 - val_accuracy: 1.0000\n",
            "Epoch 36/50\n",
            "120/120 [==============================] - 0s 2ms/step - loss: 0.0563 - accuracy: 0.9750 - val_loss: 0.0287 - val_accuracy: 1.0000\n",
            "Epoch 37/50\n",
            "120/120 [==============================] - 0s 2ms/step - loss: 0.0526 - accuracy: 0.9750 - val_loss: 0.0291 - val_accuracy: 1.0000\n",
            "Epoch 38/50\n",
            "120/120 [==============================] - 0s 2ms/step - loss: 0.0537 - accuracy: 0.9833 - val_loss: 0.0282 - val_accuracy: 1.0000\n",
            "Epoch 39/50\n",
            "120/120 [==============================] - 0s 2ms/step - loss: 0.0514 - accuracy: 0.9833 - val_loss: 0.0335 - val_accuracy: 1.0000\n",
            "Epoch 40/50\n",
            "120/120 [==============================] - 0s 3ms/step - loss: 0.0569 - accuracy: 0.9750 - val_loss: 0.0325 - val_accuracy: 1.0000\n",
            "Epoch 41/50\n",
            "120/120 [==============================] - 0s 2ms/step - loss: 0.0498 - accuracy: 0.9833 - val_loss: 0.0253 - val_accuracy: 1.0000\n",
            "Epoch 42/50\n",
            "120/120 [==============================] - 0s 2ms/step - loss: 0.0564 - accuracy: 0.9667 - val_loss: 0.0259 - val_accuracy: 1.0000\n",
            "Epoch 43/50\n",
            "120/120 [==============================] - 0s 3ms/step - loss: 0.0492 - accuracy: 0.9833 - val_loss: 0.0267 - val_accuracy: 1.0000\n",
            "Epoch 44/50\n",
            "120/120 [==============================] - 0s 2ms/step - loss: 0.0522 - accuracy: 0.9833 - val_loss: 0.0281 - val_accuracy: 1.0000\n",
            "Epoch 45/50\n",
            "120/120 [==============================] - 0s 2ms/step - loss: 0.0492 - accuracy: 0.9833 - val_loss: 0.0280 - val_accuracy: 1.0000\n",
            "Epoch 46/50\n",
            "120/120 [==============================] - 0s 2ms/step - loss: 0.0540 - accuracy: 0.9667 - val_loss: 0.0268 - val_accuracy: 1.0000\n",
            "Epoch 47/50\n",
            "120/120 [==============================] - 0s 2ms/step - loss: 0.0474 - accuracy: 0.9833 - val_loss: 0.0272 - val_accuracy: 1.0000\n",
            "Epoch 48/50\n",
            "120/120 [==============================] - 0s 2ms/step - loss: 0.0533 - accuracy: 0.9750 - val_loss: 0.0253 - val_accuracy: 1.0000\n",
            "Epoch 49/50\n",
            "120/120 [==============================] - 0s 2ms/step - loss: 0.0501 - accuracy: 0.9917 - val_loss: 0.0285 - val_accuracy: 1.0000\n",
            "Epoch 50/50\n",
            "120/120 [==============================] - 0s 2ms/step - loss: 0.0490 - accuracy: 0.9833 - val_loss: 0.0264 - val_accuracy: 1.0000\n",
            "Training accuracy with stochastic gradient descent: 0.9833333492279053\n",
            "Testing accuracy with stochastic gradient descent: 1.0\n"
          ]
        }
      ]
    },
    {
      "cell_type": "markdown",
      "source": [
        "#ANSWER:3\n",
        "\n",
        "\n",
        "\n",
        "\n",
        "Batch Gradient Descent (BGD):\n",
        "In BGD, the entire dataset is used to compute the gradient of the cost function, and the model parameters are updated once per iteration."
      ],
      "metadata": {
        "id": "ZmuqD-osorxZ"
      }
    },
    {
      "cell_type": "code",
      "source": [
        "import numpy as np\n",
        "\n",
        "# Assume cost_function and gradient_function are defined\n",
        "# theta is the parameter vector\n",
        "\n",
        "def batch_gradient_descent(X, y, theta, learning_rate, num_iterations):\n",
        "    m = len(y)\n",
        "\n",
        "    for _ in range(num_iterations):\n",
        "        gradient = gradient_function(X, y, theta)\n",
        "        theta = theta - learning_rate * gradient / m\n",
        "\n",
        "    return theta\n"
      ],
      "metadata": {
        "id": "OSYp3QDGovQw"
      },
      "execution_count": 36,
      "outputs": []
    },
    {
      "cell_type": "markdown",
      "source": [
        "Stochastic Gradient Descent (SGD):\n",
        "In SGD, only one training example is used to compute the gradient and update the model parameters in each iteration."
      ],
      "metadata": {
        "id": "hC513JExo018"
      }
    },
    {
      "cell_type": "code",
      "source": [
        "import numpy as np\n",
        "\n",
        "# Assume cost_function and gradient_function are defined\n",
        "# theta is the parameter vector\n",
        "\n",
        "def stochastic_gradient_descent(X, y, theta, learning_rate, num_iterations):\n",
        "    m = len(y)\n",
        "\n",
        "    for _ in range(num_iterations):\n",
        "        for i in range(m):\n",
        "            gradient = gradient_function(X[i], y[i], theta)\n",
        "            theta = theta - learning_rate * gradient\n",
        "\n",
        "    return theta\n"
      ],
      "metadata": {
        "id": "Jieci0CTo3h0"
      },
      "execution_count": 37,
      "outputs": []
    },
    {
      "cell_type": "markdown",
      "source": [
        "Mini-Batch Gradient Descent (MBGD):\n",
        "In MBGD, a batch of training examples (mini-batch) is used to compute the gradient and update the model parameters in each iteration.\n",
        "\n"
      ],
      "metadata": {
        "id": "9bX071s6o7eF"
      }
    },
    {
      "cell_type": "code",
      "source": [
        "import numpy as np\n",
        "\n",
        "# Assume cost_function and gradient_function are defined\n",
        "# theta is the parameter vector\n",
        "\n",
        "def mini_batch_gradient_descent(X, y, theta, learning_rate, num_iterations, batch_size):\n",
        "    m = len(y)\n",
        "\n",
        "    for _ in range(num_iterations):\n",
        "        for i in range(0, m, batch_size):\n",
        "            X_batch = X[i:i+batch_size]\n",
        "            y_batch = y[i:i+batch_size]\n",
        "            gradient = gradient_function(X_batch, y_batch, theta)\n",
        "            theta = theta - learning_rate * gradient / batch_size\n",
        "\n",
        "    return theta\n"
      ],
      "metadata": {
        "id": "dIy97JtQo9wr"
      },
      "execution_count": 38,
      "outputs": []
    }
  ]
}